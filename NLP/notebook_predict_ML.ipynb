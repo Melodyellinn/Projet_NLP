{
 "cells": [
  {
   "cell_type": "markdown",
   "id": "8d98ed4c",
   "metadata": {},
   "source": [
    "## Introduction du notebook"
   ]
  },
  {
   "cell_type": "markdown",
   "id": "7a06cada",
   "metadata": {},
   "source": [
    "Nous sommes plusieurs petites équipes de Développeurs en IA, avec plusieurs projets proposés par notre instructeur !    \n",
    "\n",
    "\n",
    "Notre équipe est chargée de créer un model IA capable de détecter les SPAM dans les Email, qu'elle puisse différencier ceux qui le sont avec ceux qui ne le sont pas, grâce à la méthode du NLP (Natural Langage processing)  \n",
    "\n",
    "Le **NLP** est une technologie d’intelligence artificielle visant à permettre aux ordinateurs de comprendre le langage humain.\n",
    "L’objectif de cette technologie est de permettre aux machines de lire, de déchiffrer, de comprendre et de donner sens au langage humain.  \n",
    "\n",
    "Il existe une version de notre projet où notre modèle utilise une méthode en Deep Learning, notamment une couche **d'Embedding**. Il s'agit d'un espace dit \"peu dimensionnel\" dans lequel nous pouvons traduire des vecteurs à haute dimension. Cela facilite l'apprentissage automatique de notre IA sur des entrées de grande taille. L'avantage de ce modèle est qu'il pourra apprendre et être réutilisé dans plusieurs modèles (donc sur d'autres jeux de données). \n",
    "\n",
    "Le projet présenté ici est finalement celui qui est pour le moment retenu car il a été plus simple de le développer et d'en faire l'interface utilisateur voulue par l'équipe !  \n",
    "\n",
    "Nous retrouvons des méthodes en Machine Learning, notamment **TfidfVectorizer** de **Scikit-learn**, qui permet de revectoriser nos données.  \n",
    "\n",
    "Au préalable, les données ont été nettoyées et passées sous **NLTK** pour qu'il identifie les mots anglais. Nous avons ensuite utilisé la technique **Lemmatizer** avec **WordNetLemmatizer()**. La lemmatisation est le processus de regroupement des différentes formes fléchies d'un mot afin qu'elles puissent être analysées comme un seul élément. La lemmatisation est similaire à la radicalisation mais elle apporte un contexte aux mots.  \n",
    "\n",
    "C'est ainsi que nous avons pu obtenir notre corpus de mots que nous donnons à notre modèle pour qu'il puisse s'entraîner.  \n",
    "\n",
    "Pour notre projet nous avons à notre disposition une base de données comportant des mails, classé par 1 ou 0.  \n",
    "* 0 sont les mail non-spam.  \n",
    "* 1 sont les mail considérés comme des spam.  \n",
    "\n",
    "Dans ce notebook protocole/predict, vous pourrez suivre les étapes (Step by steps) pour pouvoir utiliser notre modèle avec différentes données.  \n",
    "\n",
    "Allons-y !  "
   ]
  },
  {
   "cell_type": "markdown",
   "id": "a28c2804",
   "metadata": {},
   "source": [
    "## Explication step by step"
   ]
  },
  {
   "cell_type": "markdown",
   "id": "23dbadc0",
   "metadata": {},
   "source": [
    "### Import the libraries that are recquired for our model"
   ]
  },
  {
   "cell_type": "code",
   "execution_count": 25,
   "id": "338031d5",
   "metadata": {},
   "outputs": [
    {
     "name": "stderr",
     "output_type": "stream",
     "text": [
      "[nltk_data] Downloading package punkt to\n",
      "[nltk_data]     C:\\Users\\Simplon\\AppData\\Roaming\\nltk_data...\n",
      "[nltk_data]   Package punkt is already up-to-date!\n"
     ]
    }
   ],
   "source": [
    "###### FIRST CELL TO EXECUTE : Importing libraries ######\n",
    "\n",
    "#basic\n",
    "import pandas as pd\n",
    "import numpy as np\n",
    "import string\n",
    "import pickle\n",
    "\n",
    "#visualisation\n",
    "import seaborn as sns\n",
    "import matplotlib.pyplot as plt\n",
    "\n",
    "#nltk (cleaning text)\n",
    "import re\n",
    "import nltk\n",
    "nltk.download('punkt')\n",
    "from nltk.corpus import stopwords\n",
    "from nltk.stem.wordnet import WordNetLemmatizer\n",
    "\n",
    "#preprocessing\n",
    "from sklearn.feature_extraction.text import TfidfVectorizer\n",
    "\n",
    "#modeling\n",
    "import lightgbm as lgb\n",
    "\n",
    "#result\n",
    "from sklearn.metrics import accuracy_score, classification_report, confusion_matrix, precision_score\n",
    "\n",
    "import warnings\n",
    "warnings.filterwarnings(action=\"ignore\")"
   ]
  },
  {
   "cell_type": "markdown",
   "id": "d89393ba",
   "metadata": {},
   "source": [
    "### Import pickle, model and your dataset"
   ]
  },
  {
   "cell_type": "code",
   "execution_count": 26,
   "id": "ac5345ae",
   "metadata": {},
   "outputs": [],
   "source": [
    "###### SECOND CELL TO EXECUTE : Importing data that you wan to test ######\n",
    "\n",
    "# Here, you need to replace the string 'PATHNAME_OF_YOUR_DATA_FILE' by the pathname of your file\n",
    "# For example : model_df = pd.read_csv('data/eda_clean_df.csv')\n",
    "# model_df = pd.read_csv('PATHNAME_OF_YOUR_DATA_FILE')\n",
    "\n",
    "df = pd.read_csv('data/spam_newcol.csv')"
   ]
  },
  {
   "cell_type": "code",
   "execution_count": 27,
   "id": "4c10bc26",
   "metadata": {},
   "outputs": [],
   "source": [
    "# After you need Importing our trained model\n",
    "# Here, you need to use the file \"model.h5\" (or \"model.pkl\" for model's pickle) that you will find here :\n",
    "# https://github.com/Melodyellinn/Projet_NLP\n",
    "\n",
    "tfidf = pickle.load(open('vectorizer.pkl','rb'))\n",
    "model = pickle.load(open('model.pkl','rb'))\n",
    "corpus = pickle.load(open('corpus.pkl', 'rb'))"
   ]
  },
  {
   "cell_type": "code",
   "execution_count": 28,
   "id": "616a311b",
   "metadata": {},
   "outputs": [],
   "source": [
    "# ##### Execute this cell for apply TFIDFVectorizer ##### #\n",
    "\n",
    "def transform_text(text):\n",
    "    tfidf = TfidfVectorizer(ngram_range=(1, 3))\n",
    "    X = tfidf.fit_transform(corpus)\n",
    "    y = df[\"CATEGORY\"]\n",
    "    return corpus"
   ]
  },
  {
   "cell_type": "code",
   "execution_count": 29,
   "id": "40de091c",
   "metadata": {},
   "outputs": [
    {
     "data": {
      "text/plain": [
       "LGBMClassifier(boosting_type=array([1, 1, 0, ..., 0, 0, 1], dtype=int64))"
      ]
     },
     "execution_count": 29,
     "metadata": {},
     "output_type": "execute_result"
    }
   ],
   "source": [
    "# ##### Execute this cell for use model.predict with LightGBM_Model ##### #\n",
    "\n",
    "lgb.LGBMClassifier(model.predict(X_test))"
   ]
  },
  {
   "cell_type": "code",
   "execution_count": 30,
   "id": "354d7e4c",
   "metadata": {},
   "outputs": [
    {
     "name": "stdout",
     "output_type": "stream",
     "text": [
      "Accuracy Score Model : 0.9879310344827587\n",
      "Precision Score Model : 0.9723756906077348\n",
      "----------------------------------------------------------------------------------\n",
      "              precision    recall  f1-score   support\n",
      "\n",
      "           0       0.99      0.99      0.99       798\n",
      "           1       0.99      0.97      0.98       362\n",
      "\n",
      "    accuracy                           0.99      1160\n",
      "   macro avg       0.99      0.98      0.99      1160\n",
      "weighted avg       0.99      0.99      0.99      1160\n",
      "\n",
      "----------------------------------------------------------------------------------\n",
      "Accuracy of LightGBM Model: 98.79310344827587 %\n"
     ]
    },
    {
     "data": {
      "image/png": "[encoded data removed]",
      "text/plain": [
       "<Figure size 432x288 with 2 Axes>"
      ]
     },
     "metadata": {
      "needs_background": "light"
     },
     "output_type": "display_data"
    }
   ],
   "source": [
    "# ##### Finaly, print your results ! ##### #\n",
    "\n",
    "# Result : Accuracy, Precision and Confusion Matrix of Model\n",
    "acc = accuracy_score(y_pred, y_test)\n",
    "print('Accuracy Score Model :', accuracy_score(y_pred, y_test))\n",
    "print('Precision Score Model :', precision_score(y_pred, y_test))\n",
    "print(\"----------------------------------------------------------------------------------\")\n",
    "report = classification_report(y_test, y_pred)\n",
    "print(report)\n",
    "print(\"----------------------------------------------------------------------------------\")\n",
    "cm = confusion_matrix(y_pred, y_test)\n",
    "sns.heatmap(cm, annot=True)\n",
    "print(\"Accuracy of LightGBM Model:\", acc*100,\"%\")\n",
    "plt.show()"
   ]
  },
  {
   "cell_type": "code",
   "execution_count": 31,
   "id": "2089ac47",
   "metadata": {},
   "outputs": [
    {
     "name": "stdout",
     "output_type": "stream",
     "text": [
      "[1 1 0 ... 0 0 1]\n"
     ]
    }
   ],
   "source": [
    "# ##### result's predictions ##### #\n",
    "my_prediction = model.predict(X_test)\n",
    "print(my_prediction)"
   ]
  },
  {
   "cell_type": "code",
   "execution_count": null,
   "id": "d0fe3827",
   "metadata": {},
   "outputs": [],
   "source": []
  }
 ],
 "metadata": {
  "kernelspec": {
   "display_name": "Python 3",
   "language": "python",
   "name": "python3"
  },
  "language_info": {
   "codemirror_mode": {
    "name": "ipython",
    "version": 3
   },
   "file_extension": ".py",
   "mimetype": "text/x-python",
   "name": "python",
   "nbconvert_exporter": "python",
   "pygments_lexer": "ipython3",
   "version": "3.8.8"
  },
  "toc": {
   "base_numbering": 1,
   "nav_menu": {},
   "number_sections": true,
   "sideBar": true,
   "skip_h1_title": false,
   "title_cell": "Table of Contents",
   "title_sidebar": "Contents",
   "toc_cell": false,
   "toc_position": {},
   "toc_section_display": true,
   "toc_window_display": false
  },
  "varInspector": {
   "cols": {
    "lenName": 16,
    "lenType": 16,
    "lenVar": 40
   },
   "kernels_config": {
    "python": {
     "delete_cmd_postfix": "",
     "delete_cmd_prefix": "del ",
     "library": "var_list.py",
     "varRefreshCmd": "print(var_dic_list())"
    },
    "r": {
     "delete_cmd_postfix": ") ",
     "delete_cmd_prefix": "rm(",
     "library": "var_list.r",
     "varRefreshCmd": "cat(var_dic_list()) "
    }
   },
   "types_to_exclude": [
    "module",
    "function",
    "builtin_function_or_method",
    "instance",
    "_Feature"
   ],
   "window_display": false
  }
 },
 "nbformat": 4,
 "nbformat_minor": 5
}
