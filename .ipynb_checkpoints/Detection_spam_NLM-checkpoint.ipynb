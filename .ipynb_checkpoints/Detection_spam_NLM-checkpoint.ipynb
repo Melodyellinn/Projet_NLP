{
 "cells": [
  {
   "cell_type": "markdown",
   "id": "5bac3272",
   "metadata": {},
   "source": [
    "## 🛑 Détection des Spam"
   ]
  },
  {
   "cell_type": "markdown",
   "id": "ae70abb5",
   "metadata": {},
   "source": [
    "🔎 **Objectif :** Construire un modèle capable de détecter les spam des courriels. <br/>\n",
    "\n",
    "🏅 Bonus: Topic modeling"
   ]
  },
  {
   "cell_type": "markdown",
   "id": "83031452",
   "metadata": {},
   "source": [
    "📧 Import Librairies"
   ]
  },
  {
   "cell_type": "code",
   "execution_count": 1,
   "id": "c4e33141",
   "metadata": {},
   "outputs": [],
   "source": [
    "import pandas as pd\n",
    "import numpy as np\n",
    "import seaborn as sns\n",
    "import matplotlib.pyplot as plt"
   ]
  },
  {
   "cell_type": "markdown",
   "id": "57856856",
   "metadata": {},
   "source": [
    "📧 Import Dataset"
   ]
  },
  {
   "cell_type": "code",
   "execution_count": 2,
   "id": "c98b2365",
   "metadata": {},
   "outputs": [
    {
     "data": {
      "text/html": [
       "<div>\n",
       "<style scoped>\n",
       "    .dataframe tbody tr th:only-of-type {\n",
       "        vertical-align: middle;\n",
       "    }\n",
       "\n",
       "    .dataframe tbody tr th {\n",
       "        vertical-align: top;\n",
       "    }\n",
       "\n",
       "    .dataframe thead th {\n",
       "        text-align: right;\n",
       "    }\n",
       "</style>\n",
       "<table border=\"1\" class=\"dataframe\">\n",
       "  <thead>\n",
       "    <tr style=\"text-align: right;\">\n",
       "      <th></th>\n",
       "      <th>CATEGORY</th>\n",
       "      <th>MESSAGE</th>\n",
       "      <th>FILE_NAME</th>\n",
       "    </tr>\n",
       "  </thead>\n",
       "  <tbody>\n",
       "    <tr>\n",
       "      <th>0</th>\n",
       "      <td>1</td>\n",
       "      <td>Dear Homeowner,\\n\\n \\n\\nInterest Rates are at ...</td>\n",
       "      <td>00249.5f45607c1bffe89f60ba1ec9f878039a</td>\n",
       "    </tr>\n",
       "    <tr>\n",
       "      <th>1</th>\n",
       "      <td>1</td>\n",
       "      <td>ATTENTION: This is a MUST for ALL Computer Use...</td>\n",
       "      <td>00373.ebe8670ac56b04125c25100a36ab0510</td>\n",
       "    </tr>\n",
       "    <tr>\n",
       "      <th>2</th>\n",
       "      <td>1</td>\n",
       "      <td>This is a multi-part message in MIME format.\\n...</td>\n",
       "      <td>00214.1367039e50dc6b7adb0f2aa8aba83216</td>\n",
       "    </tr>\n",
       "    <tr>\n",
       "      <th>3</th>\n",
       "      <td>1</td>\n",
       "      <td>IMPORTANT INFORMATION:\\n\\n\\n\\nThe new domain n...</td>\n",
       "      <td>00210.050ffd105bd4e006771ee63cabc59978</td>\n",
       "    </tr>\n",
       "    <tr>\n",
       "      <th>4</th>\n",
       "      <td>1</td>\n",
       "      <td>This is the bottom line.  If you can GIVE AWAY...</td>\n",
       "      <td>00033.9babb58d9298daa2963d4f514193d7d6</td>\n",
       "    </tr>\n",
       "    <tr>\n",
       "      <th>...</th>\n",
       "      <td>...</td>\n",
       "      <td>...</td>\n",
       "      <td>...</td>\n",
       "    </tr>\n",
       "    <tr>\n",
       "      <th>5791</th>\n",
       "      <td>0</td>\n",
       "      <td>I'm one of the 30,000 but it's not working ver...</td>\n",
       "      <td>00609.dd49926ce94a1ea328cce9b62825bc97</td>\n",
       "    </tr>\n",
       "    <tr>\n",
       "      <th>5792</th>\n",
       "      <td>0</td>\n",
       "      <td>Damien Morton quoted:\\n\\n&gt;W3C approves HTML 4 ...</td>\n",
       "      <td>00957.e0b56b117f3ec5f85e432a9d2a47801f</td>\n",
       "    </tr>\n",
       "    <tr>\n",
       "      <th>5793</th>\n",
       "      <td>0</td>\n",
       "      <td>On Mon, 2002-07-22 at 06:50, che wrote:\\n\\n\\n\\...</td>\n",
       "      <td>01127.841233b48eceb74a825417d8d918abf8</td>\n",
       "    </tr>\n",
       "    <tr>\n",
       "      <th>5794</th>\n",
       "      <td>0</td>\n",
       "      <td>Once upon a time, Manfred wrote :\\n\\n\\n\\n&gt; I w...</td>\n",
       "      <td>01178.5c977dff972cd6eef64d4173b90307f0</td>\n",
       "    </tr>\n",
       "    <tr>\n",
       "      <th>5795</th>\n",
       "      <td>0</td>\n",
       "      <td>If you run Pick, and then use the \"New FTOC\" b...</td>\n",
       "      <td>00747.352d424267d36975a7b40b85ffd0885e</td>\n",
       "    </tr>\n",
       "  </tbody>\n",
       "</table>\n",
       "<p>5796 rows × 3 columns</p>\n",
       "</div>"
      ],
      "text/plain": [
       "      CATEGORY                                            MESSAGE  \\\n",
       "0            1  Dear Homeowner,\\n\\n \\n\\nInterest Rates are at ...   \n",
       "1            1  ATTENTION: This is a MUST for ALL Computer Use...   \n",
       "2            1  This is a multi-part message in MIME format.\\n...   \n",
       "3            1  IMPORTANT INFORMATION:\\n\\n\\n\\nThe new domain n...   \n",
       "4            1  This is the bottom line.  If you can GIVE AWAY...   \n",
       "...        ...                                                ...   \n",
       "5791         0  I'm one of the 30,000 but it's not working ver...   \n",
       "5792         0  Damien Morton quoted:\\n\\n>W3C approves HTML 4 ...   \n",
       "5793         0  On Mon, 2002-07-22 at 06:50, che wrote:\\n\\n\\n\\...   \n",
       "5794         0  Once upon a time, Manfred wrote :\\n\\n\\n\\n> I w...   \n",
       "5795         0  If you run Pick, and then use the \"New FTOC\" b...   \n",
       "\n",
       "                                   FILE_NAME  \n",
       "0     00249.5f45607c1bffe89f60ba1ec9f878039a  \n",
       "1     00373.ebe8670ac56b04125c25100a36ab0510  \n",
       "2     00214.1367039e50dc6b7adb0f2aa8aba83216  \n",
       "3     00210.050ffd105bd4e006771ee63cabc59978  \n",
       "4     00033.9babb58d9298daa2963d4f514193d7d6  \n",
       "...                                      ...  \n",
       "5791  00609.dd49926ce94a1ea328cce9b62825bc97  \n",
       "5792  00957.e0b56b117f3ec5f85e432a9d2a47801f  \n",
       "5793  01127.841233b48eceb74a825417d8d918abf8  \n",
       "5794  01178.5c977dff972cd6eef64d4173b90307f0  \n",
       "5795  00747.352d424267d36975a7b40b85ffd0885e  \n",
       "\n",
       "[5796 rows x 3 columns]"
      ]
     },
     "execution_count": 2,
     "metadata": {},
     "output_type": "execute_result"
    }
   ],
   "source": [
    "df = pd.read_csv('C:/Users/zaome/Documents/Arthuro/Projet_NLP/Spam Email raw text for NLP.csv')\n",
    "df"
   ]
  },
  {
   "cell_type": "markdown",
   "id": "6d055dd9",
   "metadata": {},
   "source": [
    "### 🛑 Exploration des données"
   ]
  },
  {
   "cell_type": "markdown",
   "id": "672f816a",
   "metadata": {},
   "source": [
    "📧 Data shape"
   ]
  },
  {
   "cell_type": "code",
   "execution_count": 3,
   "id": "82a5b01c",
   "metadata": {},
   "outputs": [
    {
     "data": {
      "text/plain": [
       "(5796, 3)"
      ]
     },
     "execution_count": 3,
     "metadata": {},
     "output_type": "execute_result"
    }
   ],
   "source": [
    "df.shape"
   ]
  },
  {
   "cell_type": "markdown",
   "id": "a315e931",
   "metadata": {},
   "source": [
    "📧 Data info"
   ]
  },
  {
   "cell_type": "code",
   "execution_count": 4,
   "id": "8df43517",
   "metadata": {},
   "outputs": [
    {
     "name": "stdout",
     "output_type": "stream",
     "text": [
      "<class 'pandas.core.frame.DataFrame'>\n",
      "RangeIndex: 5796 entries, 0 to 5795\n",
      "Data columns (total 3 columns):\n",
      " #   Column     Non-Null Count  Dtype \n",
      "---  ------     --------------  ----- \n",
      " 0   CATEGORY   5796 non-null   int64 \n",
      " 1   MESSAGE    5796 non-null   object\n",
      " 2   FILE_NAME  5796 non-null   object\n",
      "dtypes: int64(1), object(2)\n",
      "memory usage: 136.0+ KB\n"
     ]
    }
   ],
   "source": [
    "df.info()"
   ]
  },
  {
   "cell_type": "markdown",
   "id": "56b838f9",
   "metadata": {},
   "source": [
    "📧 Data describe"
   ]
  },
  {
   "cell_type": "code",
   "execution_count": 5,
   "id": "0a62fbd2",
   "metadata": {},
   "outputs": [
    {
     "data": {
      "text/html": [
       "<div>\n",
       "<style scoped>\n",
       "    .dataframe tbody tr th:only-of-type {\n",
       "        vertical-align: middle;\n",
       "    }\n",
       "\n",
       "    .dataframe tbody tr th {\n",
       "        vertical-align: top;\n",
       "    }\n",
       "\n",
       "    .dataframe thead th {\n",
       "        text-align: right;\n",
       "    }\n",
       "</style>\n",
       "<table border=\"1\" class=\"dataframe\">\n",
       "  <thead>\n",
       "    <tr style=\"text-align: right;\">\n",
       "      <th></th>\n",
       "      <th>CATEGORY</th>\n",
       "    </tr>\n",
       "  </thead>\n",
       "  <tbody>\n",
       "    <tr>\n",
       "      <th>count</th>\n",
       "      <td>5796.000000</td>\n",
       "    </tr>\n",
       "    <tr>\n",
       "      <th>mean</th>\n",
       "      <td>0.327122</td>\n",
       "    </tr>\n",
       "    <tr>\n",
       "      <th>std</th>\n",
       "      <td>0.469203</td>\n",
       "    </tr>\n",
       "    <tr>\n",
       "      <th>min</th>\n",
       "      <td>0.000000</td>\n",
       "    </tr>\n",
       "    <tr>\n",
       "      <th>25%</th>\n",
       "      <td>0.000000</td>\n",
       "    </tr>\n",
       "    <tr>\n",
       "      <th>50%</th>\n",
       "      <td>0.000000</td>\n",
       "    </tr>\n",
       "    <tr>\n",
       "      <th>75%</th>\n",
       "      <td>1.000000</td>\n",
       "    </tr>\n",
       "    <tr>\n",
       "      <th>max</th>\n",
       "      <td>1.000000</td>\n",
       "    </tr>\n",
       "  </tbody>\n",
       "</table>\n",
       "</div>"
      ],
      "text/plain": [
       "          CATEGORY\n",
       "count  5796.000000\n",
       "mean      0.327122\n",
       "std       0.469203\n",
       "min       0.000000\n",
       "25%       0.000000\n",
       "50%       0.000000\n",
       "75%       1.000000\n",
       "max       1.000000"
      ]
     },
     "execution_count": 5,
     "metadata": {},
     "output_type": "execute_result"
    }
   ],
   "source": [
    "df.describe()"
   ]
  },
  {
   "cell_type": "markdown",
   "id": "df23b04d",
   "metadata": {},
   "source": [
    "📧 Types de valeurs"
   ]
  },
  {
   "cell_type": "code",
   "execution_count": 6,
   "id": "38196bc1",
   "metadata": {},
   "outputs": [
    {
     "data": {
      "text/plain": [
       "object    2\n",
       "int64     1\n",
       "dtype: int64"
      ]
     },
     "execution_count": 6,
     "metadata": {},
     "output_type": "execute_result"
    }
   ],
   "source": [
    "df_dtype = df.dtypes\n",
    "df_dtype.value_counts()"
   ]
  },
  {
   "cell_type": "markdown",
   "id": "50979ee2",
   "metadata": {},
   "source": [
    "📧 Valeurs manquantes"
   ]
  },
  {
   "cell_type": "code",
   "execution_count": 7,
   "id": "c9e6d465",
   "metadata": {},
   "outputs": [
    {
     "data": {
      "text/plain": [
       "CATEGORY     0\n",
       "MESSAGE      0\n",
       "FILE_NAME    0\n",
       "dtype: int64"
      ]
     },
     "execution_count": 7,
     "metadata": {},
     "output_type": "execute_result"
    }
   ],
   "source": [
    "df.isnull().sum().sort_values()"
   ]
  },
  {
   "cell_type": "markdown",
   "id": "cf2570b0",
   "metadata": {},
   "source": [
    "📧 Répartitions des Nan"
   ]
  },
  {
   "cell_type": "code",
   "execution_count": 8,
   "id": "736dff35",
   "metadata": {},
   "outputs": [
    {
     "data": {
      "text/html": [
       "<div>\n",
       "<style scoped>\n",
       "    .dataframe tbody tr th:only-of-type {\n",
       "        vertical-align: middle;\n",
       "    }\n",
       "\n",
       "    .dataframe tbody tr th {\n",
       "        vertical-align: top;\n",
       "    }\n",
       "\n",
       "    .dataframe thead th {\n",
       "        text-align: right;\n",
       "    }\n",
       "</style>\n",
       "<table border=\"1\" class=\"dataframe\">\n",
       "  <thead>\n",
       "    <tr style=\"text-align: right;\">\n",
       "      <th></th>\n",
       "      <th>Nan</th>\n",
       "      <th>%nan</th>\n",
       "    </tr>\n",
       "  </thead>\n",
       "  <tbody>\n",
       "    <tr>\n",
       "      <th>CATEGORY</th>\n",
       "      <td>0</td>\n",
       "      <td>0.0</td>\n",
       "    </tr>\n",
       "    <tr>\n",
       "      <th>MESSAGE</th>\n",
       "      <td>0</td>\n",
       "      <td>0.0</td>\n",
       "    </tr>\n",
       "    <tr>\n",
       "      <th>FILE_NAME</th>\n",
       "      <td>0</td>\n",
       "      <td>0.0</td>\n",
       "    </tr>\n",
       "  </tbody>\n",
       "</table>\n",
       "</div>"
      ],
      "text/plain": [
       "           Nan  %nan\n",
       "CATEGORY     0   0.0\n",
       "MESSAGE      0   0.0\n",
       "FILE_NAME    0   0.0"
      ]
     },
     "execution_count": 8,
     "metadata": {},
     "output_type": "execute_result"
    }
   ],
   "source": [
    "df_nan = pd.DataFrame({'Nan':df.isna().sum()})\n",
    "df_nan['%nan'] = df_nan['Nan']/df.shape[0]*100\n",
    "round(df_nan,2).sort_values(by='%nan' , ascending=False)"
   ]
  },
  {
   "cell_type": "markdown",
   "id": "51ea4a63",
   "metadata": {},
   "source": [
    "📧 Duplicates"
   ]
  },
  {
   "cell_type": "code",
   "execution_count": 9,
   "id": "066d58fe",
   "metadata": {},
   "outputs": [
    {
     "data": {
      "text/plain": [
       "0"
      ]
     },
     "execution_count": 9,
     "metadata": {},
     "output_type": "execute_result"
    }
   ],
   "source": [
    "df.duplicated().sum()"
   ]
  },
  {
   "cell_type": "markdown",
   "id": "ec3d2840",
   "metadata": {},
   "source": [
    "📧 Analyse CATEGORY"
   ]
  },
  {
   "cell_type": "code",
   "execution_count": 10,
   "id": "33876ca3",
   "metadata": {},
   "outputs": [
    {
     "data": {
      "text/plain": [
       "0    3900\n",
       "1    1896\n",
       "Name: CATEGORY, dtype: int64"
      ]
     },
     "execution_count": 10,
     "metadata": {},
     "output_type": "execute_result"
    }
   ],
   "source": [
    "df['CATEGORY'].value_counts()"
   ]
  },
  {
   "cell_type": "markdown",
   "id": "7c09ef87",
   "metadata": {},
   "source": [
    "### 🛑 Cleanning Data"
   ]
  },
  {
   "cell_type": "markdown",
   "id": "7ef42cbd",
   "metadata": {},
   "source": [
    "📧 Import Librairies"
   ]
  },
  {
   "cell_type": "code",
   "execution_count": 11,
   "id": "61a3fc5a",
   "metadata": {},
   "outputs": [
    {
     "name": "stdout",
     "output_type": "stream",
     "text": [
      "Requirement already satisfied: nltk in c:\\users\\zaome\\appdata\\roaming\\python\\python38\\site-packages (3.6.7)\n",
      "Requirement already satisfied: regex>=2021.8.3 in c:\\users\\zaome\\appdata\\roaming\\python\\python38\\site-packages (from nltk) (2021.11.10)\n",
      "Requirement already satisfied: click in c:\\users\\zaome\\anaconda3\\lib\\site-packages (from nltk) (7.1.2)\n",
      "Requirement already satisfied: tqdm in c:\\users\\zaome\\appdata\\roaming\\python\\python38\\site-packages (from nltk) (4.56.0)\n",
      "Requirement already satisfied: joblib in c:\\users\\zaome\\appdata\\roaming\\python\\python38\\site-packages (from nltk) (1.0.0)\n",
      "Note: you may need to restart the kernel to use updated packages.\n"
     ]
    }
   ],
   "source": [
    "pip install --user -U nltk"
   ]
  },
  {
   "cell_type": "code",
   "execution_count": 12,
   "id": "375cb80c",
   "metadata": {},
   "outputs": [
    {
     "name": "stderr",
     "output_type": "stream",
     "text": [
      "[nltk_data] Downloading package omw-1.4 to\n",
      "[nltk_data]     C:\\Users\\zaome\\AppData\\Roaming\\nltk_data...\n",
      "[nltk_data]   Package omw-1.4 is already up-to-date!\n"
     ]
    }
   ],
   "source": [
    "import re\n",
    "import nltk\n",
    "nltk.download('omw-1.4')\n",
    "from nltk.corpus import stopwords\n",
    "from nltk.stem.wordnet import WordNetLemmatizer"
   ]
  },
  {
   "cell_type": "markdown",
   "id": "d9188a54",
   "metadata": {},
   "source": [
    "📧 Nettoyage des données"
   ]
  },
  {
   "cell_type": "code",
   "execution_count": 13,
   "id": "54399b13",
   "metadata": {},
   "outputs": [],
   "source": [
    "def standardize_text(df, content_field):\n",
    "    df[content_field] = df[content_field].str.replace(r\"http\\S+\", \"\")\n",
    "    df[content_field] = df[content_field].str.replace(r\"http\", \"\")\n",
    "    df[content_field] = df[content_field].str.replace(r\"@\\S+\", \"\")\n",
    "    df[content_field] = df[content_field].str.replace(r\"\\n\", \"\")\n",
    "    df[content_field] = df[content_field].str.replace(r\"[^A-Za-z0-9(),!?@\\'\\`\\\"\\_\\n]\", \" \")\n",
    "    df[content_field] = df[content_field].str.replace(r\"@\", \"at\")\n",
    "    df[content_field] = df[content_field].str.lower()\n",
    "    return df"
   ]
  },
  {
   "cell_type": "markdown",
   "id": "76ebad8a",
   "metadata": {},
   "source": [
    "📧 Affichage"
   ]
  },
  {
   "cell_type": "code",
   "execution_count": 14,
   "id": "881e703b",
   "metadata": {},
   "outputs": [
    {
     "data": {
      "text/html": [
       "<div>\n",
       "<style scoped>\n",
       "    .dataframe tbody tr th:only-of-type {\n",
       "        vertical-align: middle;\n",
       "    }\n",
       "\n",
       "    .dataframe tbody tr th {\n",
       "        vertical-align: top;\n",
       "    }\n",
       "\n",
       "    .dataframe thead th {\n",
       "        text-align: right;\n",
       "    }\n",
       "</style>\n",
       "<table border=\"1\" class=\"dataframe\">\n",
       "  <thead>\n",
       "    <tr style=\"text-align: right;\">\n",
       "      <th></th>\n",
       "      <th>CATEGORY</th>\n",
       "      <th>MESSAGE</th>\n",
       "      <th>FILE_NAME</th>\n",
       "    </tr>\n",
       "  </thead>\n",
       "  <tbody>\n",
       "    <tr>\n",
       "      <th>0</th>\n",
       "      <td>1</td>\n",
       "      <td>dear homeowner, interest rates are at their lo...</td>\n",
       "      <td>00249.5f45607c1bffe89f60ba1ec9f878039a</td>\n",
       "    </tr>\n",
       "    <tr>\n",
       "      <th>1</th>\n",
       "      <td>1</td>\n",
       "      <td>attention  this is a must for all computer use...</td>\n",
       "      <td>00373.ebe8670ac56b04125c25100a36ab0510</td>\n",
       "    </tr>\n",
       "    <tr>\n",
       "      <th>2</th>\n",
       "      <td>1</td>\n",
       "      <td>this is a multi part message in mime format   ...</td>\n",
       "      <td>00214.1367039e50dc6b7adb0f2aa8aba83216</td>\n",
       "    </tr>\n",
       "    <tr>\n",
       "      <th>3</th>\n",
       "      <td>1</td>\n",
       "      <td>important information the new domain names are...</td>\n",
       "      <td>00210.050ffd105bd4e006771ee63cabc59978</td>\n",
       "    </tr>\n",
       "    <tr>\n",
       "      <th>4</th>\n",
       "      <td>1</td>\n",
       "      <td>this is the bottom line   if you can give away...</td>\n",
       "      <td>00033.9babb58d9298daa2963d4f514193d7d6</td>\n",
       "    </tr>\n",
       "    <tr>\n",
       "      <th>...</th>\n",
       "      <td>...</td>\n",
       "      <td>...</td>\n",
       "      <td>...</td>\n",
       "    </tr>\n",
       "    <tr>\n",
       "      <th>5791</th>\n",
       "      <td>0</td>\n",
       "      <td>i'm one of the 30,000 but it's not working ver...</td>\n",
       "      <td>00609.dd49926ce94a1ea328cce9b62825bc97</td>\n",
       "    </tr>\n",
       "    <tr>\n",
       "      <th>5792</th>\n",
       "      <td>0</td>\n",
       "      <td>damien morton quoted  w3c approves html 4 'emo...</td>\n",
       "      <td>00957.e0b56b117f3ec5f85e432a9d2a47801f</td>\n",
       "    </tr>\n",
       "    <tr>\n",
       "      <th>5793</th>\n",
       "      <td>0</td>\n",
       "      <td>on mon, 2002 07 22 at 06 50, che wrote   thats...</td>\n",
       "      <td>01127.841233b48eceb74a825417d8d918abf8</td>\n",
       "    </tr>\n",
       "    <tr>\n",
       "      <th>5794</th>\n",
       "      <td>0</td>\n",
       "      <td>once upon a time, manfred wrote    i would lik...</td>\n",
       "      <td>01178.5c977dff972cd6eef64d4173b90307f0</td>\n",
       "    </tr>\n",
       "    <tr>\n",
       "      <th>5795</th>\n",
       "      <td>0</td>\n",
       "      <td>if you run pick, and then use the \"new ftoc\" b...</td>\n",
       "      <td>00747.352d424267d36975a7b40b85ffd0885e</td>\n",
       "    </tr>\n",
       "  </tbody>\n",
       "</table>\n",
       "<p>5796 rows × 3 columns</p>\n",
       "</div>"
      ],
      "text/plain": [
       "      CATEGORY                                            MESSAGE  \\\n",
       "0            1  dear homeowner, interest rates are at their lo...   \n",
       "1            1  attention  this is a must for all computer use...   \n",
       "2            1  this is a multi part message in mime format   ...   \n",
       "3            1  important information the new domain names are...   \n",
       "4            1  this is the bottom line   if you can give away...   \n",
       "...        ...                                                ...   \n",
       "5791         0  i'm one of the 30,000 but it's not working ver...   \n",
       "5792         0  damien morton quoted  w3c approves html 4 'emo...   \n",
       "5793         0  on mon, 2002 07 22 at 06 50, che wrote   thats...   \n",
       "5794         0  once upon a time, manfred wrote    i would lik...   \n",
       "5795         0  if you run pick, and then use the \"new ftoc\" b...   \n",
       "\n",
       "                                   FILE_NAME  \n",
       "0     00249.5f45607c1bffe89f60ba1ec9f878039a  \n",
       "1     00373.ebe8670ac56b04125c25100a36ab0510  \n",
       "2     00214.1367039e50dc6b7adb0f2aa8aba83216  \n",
       "3     00210.050ffd105bd4e006771ee63cabc59978  \n",
       "4     00033.9babb58d9298daa2963d4f514193d7d6  \n",
       "...                                      ...  \n",
       "5791  00609.dd49926ce94a1ea328cce9b62825bc97  \n",
       "5792  00957.e0b56b117f3ec5f85e432a9d2a47801f  \n",
       "5793  01127.841233b48eceb74a825417d8d918abf8  \n",
       "5794  01178.5c977dff972cd6eef64d4173b90307f0  \n",
       "5795  00747.352d424267d36975a7b40b85ffd0885e  \n",
       "\n",
       "[5796 rows x 3 columns]"
      ]
     },
     "execution_count": 14,
     "metadata": {},
     "output_type": "execute_result"
    }
   ],
   "source": [
    "standardize_text(df,\"MESSAGE\")"
   ]
  },
  {
   "cell_type": "markdown",
   "id": "40491418",
   "metadata": {},
   "source": [
    "📧 Drop la colonne"
   ]
  },
  {
   "cell_type": "code",
   "execution_count": 15,
   "id": "7250eb37",
   "metadata": {},
   "outputs": [
    {
     "data": {
      "text/plain": [
       "<bound method NDFrame.head of       CATEGORY                                            MESSAGE\n",
       "0            1  dear homeowner, interest rates are at their lo...\n",
       "1            1  attention  this is a must for all computer use...\n",
       "2            1  this is a multi part message in mime format   ...\n",
       "3            1  important information the new domain names are...\n",
       "4            1  this is the bottom line   if you can give away...\n",
       "...        ...                                                ...\n",
       "5791         0  i'm one of the 30,000 but it's not working ver...\n",
       "5792         0  damien morton quoted  w3c approves html 4 'emo...\n",
       "5793         0  on mon, 2002 07 22 at 06 50, che wrote   thats...\n",
       "5794         0  once upon a time, manfred wrote    i would lik...\n",
       "5795         0  if you run pick, and then use the \"new ftoc\" b...\n",
       "\n",
       "[5796 rows x 2 columns]>"
      ]
     },
     "execution_count": 15,
     "metadata": {},
     "output_type": "execute_result"
    }
   ],
   "source": [
    "df = df.drop('FILE_NAME', axis=1)\n",
    "df"
   ]
  },
  {
   "cell_type": "markdown",
   "id": "e174867a",
   "metadata": {},
   "source": [
    "📧 Corpus"
   ]
  },
  {
   "cell_type": "code",
   "execution_count": 16,
   "id": "ed7ba117",
   "metadata": {},
   "outputs": [],
   "source": [
    "lemmatizer = WordNetLemmatizer()\n",
    "corpus = []\n",
    "\n",
    "for i in range(0, len(df)):\n",
    "    message = re.sub('[^a-zA-Z]', ' ', df['MESSAGE'][i])\n",
    "    message = message.split()\n",
    "    message =[word for word in message if not word in set(stopwords.words('english'))]\n",
    "    message = [lemmatizer.lemmatize(word) for word in message]\n",
    "    message = ' '.join(message)\n",
    "    corpus.append(message)"
   ]
  },
  {
   "cell_type": "code",
   "execution_count": 17,
   "id": "e2580dd4",
   "metadata": {},
   "outputs": [],
   "source": [
    "#corpus"
   ]
  },
  {
   "cell_type": "markdown",
   "id": "d2f2d557",
   "metadata": {},
   "source": [
    "### 🛑 Visualisations"
   ]
  },
  {
   "cell_type": "markdown",
   "id": "54558f8e",
   "metadata": {},
   "source": [
    "📧 Répartition de la category"
   ]
  },
  {
   "cell_type": "code",
   "execution_count": 18,
   "id": "4f4e622d",
   "metadata": {},
   "outputs": [
    {
     "name": "stderr",
     "output_type": "stream",
     "text": [
      "C:\\Users\\zaome\\anaconda3\\lib\\site-packages\\seaborn\\_decorators.py:36: FutureWarning: Pass the following variable as a keyword arg: x. From version 0.12, the only valid positional argument will be `data`, and passing other arguments without an explicit keyword will result in an error or misinterpretation.\n",
      "  warnings.warn(\n"
     ]
    },
    {
     "data": {
      "image/png": "[encoded data removed]",
      "text/plain": [
       "<Figure size 360x288 with 1 Axes>"
      ]
     },
     "metadata": {
      "needs_background": "light"
     },
     "output_type": "display_data"
    }
   ],
   "source": [
    "fig, axes = plt.subplots(figsize=(5,4))\n",
    "sns.countplot(df[\"CATEGORY\"])\n",
    "plt.show()"
   ]
  },
  {
   "cell_type": "markdown",
   "id": "fef680f5",
   "metadata": {},
   "source": [
    "📧 % de spam"
   ]
  },
  {
   "cell_type": "code",
   "execution_count": 19,
   "id": "46daa311",
   "metadata": {},
   "outputs": [
    {
     "data": {
      "image/png": "[encoded data removed]",
      "text/plain": [
       "<Figure size 360x288 with 1 Axes>"
      ]
     },
     "metadata": {},
     "output_type": "display_data"
    }
   ],
   "source": [
    "# Lets check % of spam and non spam messages\n",
    "category_names = ['Spam',\"Non Spam\"]\n",
    "size = [df.CATEGORY.value_counts()[1],df.CATEGORY.value_counts()[0]]\n",
    "\n",
    "# Pie chart \n",
    "plt.figure(figsize=(5,4))\n",
    "plt.pie(size, labels=category_names, textprops={'fontsize':13}, startangle=90, autopct='%1.1f%%', explode=[0,0.05])\n",
    "plt.show()"
   ]
  },
  {
   "cell_type": "markdown",
   "id": "d34c91aa",
   "metadata": {},
   "source": [
    "### 🛑 Preprocessing"
   ]
  },
  {
   "cell_type": "markdown",
   "id": "a57d9fc3",
   "metadata": {},
   "source": [
    "📧 Import Librairies"
   ]
  },
  {
   "cell_type": "code",
   "execution_count": 20,
   "id": "21f4ec20",
   "metadata": {},
   "outputs": [],
   "source": [
    "import tensorflow as tf\n",
    "from sklearn.model_selection import train_test_split"
   ]
  },
  {
   "cell_type": "markdown",
   "id": "c5606e73",
   "metadata": {},
   "source": [
    "📧 Fonction get_sequences"
   ]
  },
  {
   "cell_type": "code",
   "execution_count": 21,
   "id": "33619796",
   "metadata": {},
   "outputs": [],
   "source": [
    "def get_sequences(texts, tokenizer, train=True, max_seq_length=None):\n",
    "    sequences = tokenizer.texts_to_sequences(texts)\n",
    "    \n",
    "    if train == True:\n",
    "        max_seq_length = np.max(list(map(lambda x: len(x), sequences)))\n",
    "    \n",
    "    sequences = tf.keras.preprocessing.sequence.pad_sequences(sequences, maxlen=max_seq_length, padding='post')\n",
    "    \n",
    "    return sequences"
   ]
  },
  {
   "cell_type": "markdown",
   "id": "2e7e8611",
   "metadata": {},
   "source": [
    "📧 Plit data"
   ]
  },
  {
   "cell_type": "code",
   "execution_count": 22,
   "id": "802891aa",
   "metadata": {},
   "outputs": [],
   "source": [
    "y = df['CATEGORY']\n",
    "X = df['MESSAGE']"
   ]
  },
  {
   "cell_type": "markdown",
   "id": "b8bc8f37",
   "metadata": {},
   "source": [
    "📧 Train-test split"
   ]
  },
  {
   "cell_type": "code",
   "execution_count": 23,
   "id": "a456131f",
   "metadata": {},
   "outputs": [],
   "source": [
    "from sklearn.model_selection import train_test_split\n",
    "X_train, X_test, y_train, y_test = train_test_split(X, y, test_size=0.5, shuffle=True, random_state=0)"
   ]
  },
  {
   "cell_type": "markdown",
   "id": "1ab1275d",
   "metadata": {},
   "source": [
    "📧 tokenisation"
   ]
  },
  {
   "cell_type": "code",
   "execution_count": 24,
   "id": "b6781ae7",
   "metadata": {},
   "outputs": [],
   "source": [
    "# Create tokenizer\n",
    "tokenizer = tf.keras.preprocessing.text.Tokenizer(num_words = 30000)\n",
    "    \n",
    "# Fit the tokenizer\n",
    "tokenizer.fit_on_texts(X_train)\n",
    "\n",
    "# Convert texts to sequences\n",
    "X_train = get_sequences(X_train, tokenizer, train=True)\n",
    "X_test = get_sequences(X_test, tokenizer, train=False, max_seq_length = X_train.shape[1])"
   ]
  },
  {
   "cell_type": "markdown",
   "id": "11e540d9",
   "metadata": {},
   "source": [
    "### 🛑 Training"
   ]
  },
  {
   "cell_type": "code",
   "execution_count": 25,
   "id": "249bd81b",
   "metadata": {},
   "outputs": [
    {
     "data": {
      "text/plain": [
       "array([[ 271,  212,   93, ...,    0,    0,    0],\n",
       "       [ 140, 1841,    1, ...,    0,    0,    0],\n",
       "       [ 645,    4,  703, ...,    0,    0,    0],\n",
       "       ...,\n",
       "       [1624, 3398, 2930, ...,    0,    0,    0],\n",
       "       [ 271,  212,   93, ...,    0,    0,    0],\n",
       "       [ 271,  212,   93, ...,    0,    0,    0]])"
      ]
     },
     "execution_count": 25,
     "metadata": {},
     "output_type": "execute_result"
    }
   ],
   "source": [
    "X_train"
   ]
  },
  {
   "cell_type": "code",
   "execution_count": 26,
   "id": "2d71ef08",
   "metadata": {
    "scrolled": true
   },
   "outputs": [
    {
     "data": {
      "text/plain": [
       "2676    0\n",
       "2470    0\n",
       "330     1\n",
       "2351    0\n",
       "3066    0\n",
       "       ..\n",
       "4931    0\n",
       "3264    0\n",
       "1653    1\n",
       "2607    0\n",
       "2732    0\n",
       "Name: CATEGORY, Length: 2898, dtype: int64"
      ]
     },
     "execution_count": 26,
     "metadata": {},
     "output_type": "execute_result"
    }
   ],
   "source": [
    "y_train"
   ]
  },
  {
   "cell_type": "code",
   "execution_count": 27,
   "id": "efa24c52",
   "metadata": {},
   "outputs": [
    {
     "data": {
      "text/plain": [
       "0    1961\n",
       "1     937\n",
       "Name: CATEGORY, dtype: int64"
      ]
     },
     "execution_count": 27,
     "metadata": {},
     "output_type": "execute_result"
    }
   ],
   "source": [
    "y_train.value_counts()"
   ]
  },
  {
   "cell_type": "code",
   "execution_count": 28,
   "id": "d2e1c3a1",
   "metadata": {},
   "outputs": [
    {
     "data": {
      "text/plain": [
       "(2898, 12901)"
      ]
     },
     "execution_count": 28,
     "metadata": {},
     "output_type": "execute_result"
    }
   ],
   "source": [
    "X_train.shape"
   ]
  },
  {
   "cell_type": "code",
   "execution_count": 29,
   "id": "eb0308fd",
   "metadata": {},
   "outputs": [
    {
     "data": {
      "text/plain": [
       "(2898,)"
      ]
     },
     "execution_count": 29,
     "metadata": {},
     "output_type": "execute_result"
    }
   ],
   "source": [
    "y_train.shape"
   ]
  },
  {
   "cell_type": "markdown",
   "id": "f56af423",
   "metadata": {},
   "source": [
    "### 🛑 Modèles"
   ]
  },
  {
   "cell_type": "markdown",
   "id": "5ea50fcf",
   "metadata": {},
   "source": [
    "📧 Import Librairies"
   ]
  },
  {
   "cell_type": "code",
   "execution_count": 201,
   "id": "4569cd99",
   "metadata": {},
   "outputs": [],
   "source": [
    "from tensorflow import keras\n",
    "from tensorflow.keras import layers\n",
    "from tensorflow.keras.layers import Dense\n",
    "from tensorflow.keras.layers import Flatten\n",
    "from tensorflow.keras.layers import Embedding\n",
    "from tensorflow.keras.layers import Dropout\n",
    "from tensorflow.keras.layers import Activation\n",
    "from tensorflow.keras.models import Sequential"
   ]
  },
  {
   "cell_type": "markdown",
   "id": "32413c94",
   "metadata": {},
   "source": [
    "📧 Input_shape"
   ]
  },
  {
   "cell_type": "code",
   "execution_count": 202,
   "id": "0486c032",
   "metadata": {},
   "outputs": [
    {
     "data": {
      "text/plain": [
       "(12901,)"
      ]
     },
     "execution_count": 202,
     "metadata": {},
     "output_type": "execute_result"
    }
   ],
   "source": [
    "input_shape = X_train.shape[1:]\n",
    "input_shape"
   ]
  },
  {
   "cell_type": "markdown",
   "id": "788dbdbe",
   "metadata": {},
   "source": [
    "📧 Couches modèle"
   ]
  },
  {
   "cell_type": "code",
   "execution_count": 203,
   "id": "18e7f543",
   "metadata": {},
   "outputs": [],
   "source": [
    "model = Sequential()\n",
    "\n",
    "#Convolution\n",
    "model.add(Embedding(input_dim = 30000, output_dim=64, \n",
    "                    input_shape=input_shape))\n",
    "#Flatten\n",
    "model.add(Flatten())\n",
    "#Couches denses\n",
    "model.add(Dense(16, activation='relu'))\n",
    "model.add(Dropout(0.2))\n",
    "model.add(Dense(1, activation='sigmoid'))\n",
    "\n",
    "#Modele compile\n",
    "model.compile(optimizer='adam',\n",
    "              loss='binary_crossentropy',\n",
    "              metrics=['accuracy', 'AUC'])\n",
    "\n",
    "#Modele fit\n",
    "history = model.fit(X_train, y_train,\n",
    "                    validation_split=0.2,\n",
    "                    batch_size=32,\n",
    "                    epochs=30)"
   ]
  },
  {
   "cell_type": "markdown",
   "id": "3602cfd5",
   "metadata": {},
   "source": [
    "📧 Modèle compile"
   ]
  },
  {
   "cell_type": "code",
   "execution_count": 204,
   "id": "8a0ac5d4",
   "metadata": {},
   "outputs": [],
   "source": [
    "model.compile(optimizer='adam',\n",
    "              loss='binary_crossentropy',\n",
    "              metrics=['accuracy', 'AUC']\n",
    ")"
   ]
  },
  {
   "cell_type": "markdown",
   "id": "29b42a5b",
   "metadata": {},
   "source": [
    "📧 Modèle summary"
   ]
  },
  {
   "cell_type": "code",
   "execution_count": 205,
   "id": "f5eca1eb",
   "metadata": {},
   "outputs": [
    {
     "name": "stdout",
     "output_type": "stream",
     "text": [
      "Model: \"sequential_35\"\n",
      "_________________________________________________________________\n",
      " Layer (type)                Output Shape              Param #   \n",
      "=================================================================\n",
      " embedding_29 (Embedding)    (None, 12901, 64)         1920000   \n",
      "                                                                 \n",
      " flatten_25 (Flatten)        (None, 825664)            0         \n",
      "                                                                 \n",
      " dense_38 (Dense)            (None, 16)                13210640  \n",
      "                                                                 \n",
      " dropout_13 (Dropout)        (None, 16)                0         \n",
      "                                                                 \n",
      " dense_39 (Dense)            (None, 1)                 17        \n",
      "                                                                 \n",
      "=================================================================\n",
      "Total params: 15,130,657\n",
      "Trainable params: 15,130,657\n",
      "Non-trainable params: 0\n",
      "_________________________________________________________________\n"
     ]
    }
   ],
   "source": [
    "model.summary()"
   ]
  },
  {
   "cell_type": "markdown",
   "id": "7964842a",
   "metadata": {},
   "source": [
    "📧 Modèle fit"
   ]
  },
  {
   "cell_type": "code",
   "execution_count": 206,
   "id": "e6808064",
   "metadata": {
    "scrolled": true
   },
   "outputs": [
    {
     "name": "stdout",
     "output_type": "stream",
     "text": [
      "Epoch 1/30\n",
      "73/73 [==============================] - 8s 98ms/step - loss: 1.4380 - accuracy: 0.6950 - auc: 0.6310 - val_loss: 0.4326 - val_accuracy: 0.8517 - val_auc: 0.8985\n",
      "Epoch 2/30\n",
      "73/73 [==============================] - 7s 96ms/step - loss: 0.3438 - accuracy: 0.8430 - auc: 0.9047 - val_loss: 0.1215 - val_accuracy: 0.9621 - val_auc: 0.9984\n",
      "Epoch 3/30\n",
      "73/73 [==============================] - 7s 97ms/step - loss: 0.1473 - accuracy: 0.9426 - auc: 0.9870 - val_loss: 0.0448 - val_accuracy: 0.9897 - val_auc: 0.9995\n",
      "Epoch 4/30\n",
      "73/73 [==============================] - 7s 101ms/step - loss: 0.0784 - accuracy: 0.9599 - auc: 0.9969 - val_loss: 0.0474 - val_accuracy: 0.9810 - val_auc: 0.9996\n",
      "Epoch 5/30\n",
      "73/73 [==============================] - 7s 102ms/step - loss: 0.0602 - accuracy: 0.9698 - auc: 0.9978 - val_loss: 0.0251 - val_accuracy: 0.9914 - val_auc: 0.9997\n",
      "Epoch 6/30\n",
      "73/73 [==============================] - 8s 106ms/step - loss: 0.0498 - accuracy: 0.9754 - auc: 0.9984 - val_loss: 0.0225 - val_accuracy: 0.9914 - val_auc: 0.9998\n",
      "Epoch 7/30\n",
      "73/73 [==============================] - 8s 108ms/step - loss: 0.0398 - accuracy: 0.9814 - auc: 0.9989 - val_loss: 0.0249 - val_accuracy: 0.9879 - val_auc: 0.9999\n",
      "Epoch 8/30\n",
      "73/73 [==============================] - 8s 112ms/step - loss: 0.0344 - accuracy: 0.9836 - auc: 0.9991 - val_loss: 0.0229 - val_accuracy: 0.9879 - val_auc: 0.9998\n",
      "Epoch 9/30\n",
      "73/73 [==============================] - 8s 112ms/step - loss: 0.0369 - accuracy: 0.9845 - auc: 0.9988 - val_loss: 0.0227 - val_accuracy: 0.9879 - val_auc: 0.9998\n",
      "Epoch 10/30\n",
      "73/73 [==============================] - 8s 112ms/step - loss: 0.0327 - accuracy: 0.9888 - auc: 0.9993 - val_loss: 0.0256 - val_accuracy: 0.9879 - val_auc: 0.9997\n",
      "Epoch 11/30\n",
      "73/73 [==============================] - 8s 112ms/step - loss: 0.0282 - accuracy: 0.9905 - auc: 0.9994 - val_loss: 0.0239 - val_accuracy: 0.9879 - val_auc: 0.9999\n",
      "Epoch 12/30\n",
      "73/73 [==============================] - 8s 115ms/step - loss: 0.0263 - accuracy: 0.9905 - auc: 0.9995 - val_loss: 0.0230 - val_accuracy: 0.9879 - val_auc: 0.9999\n",
      "Epoch 13/30\n",
      "73/73 [==============================] - 8s 113ms/step - loss: 0.0242 - accuracy: 0.9957 - auc: 0.9997 - val_loss: 0.0213 - val_accuracy: 0.9879 - val_auc: 0.9999\n",
      "Epoch 14/30\n",
      "73/73 [==============================] - 8s 111ms/step - loss: 0.0246 - accuracy: 0.9961 - auc: 0.9997 - val_loss: 0.0174 - val_accuracy: 0.9914 - val_auc: 0.9999\n",
      "Epoch 15/30\n",
      "73/73 [==============================] - 8s 115ms/step - loss: 0.0171 - accuracy: 0.9953 - auc: 0.9998 - val_loss: 0.0317 - val_accuracy: 0.9879 - val_auc: 0.9997\n",
      "Epoch 16/30\n",
      "73/73 [==============================] - 8s 115ms/step - loss: 0.0092 - accuracy: 0.9957 - auc: 1.0000 - val_loss: 0.0320 - val_accuracy: 0.9879 - val_auc: 0.9997\n",
      "Epoch 17/30\n",
      "73/73 [==============================] - 9s 117ms/step - loss: 0.0077 - accuracy: 0.9961 - auc: 0.9999 - val_loss: 0.0370 - val_accuracy: 0.9879 - val_auc: 0.9996\n",
      "Epoch 18/30\n",
      "73/73 [==============================] - 8s 116ms/step - loss: 0.0038 - accuracy: 0.9974 - auc: 1.0000 - val_loss: 0.0333 - val_accuracy: 0.9897 - val_auc: 0.9997\n",
      "Epoch 19/30\n",
      "73/73 [==============================] - 9s 117ms/step - loss: 0.0029 - accuracy: 0.9978 - auc: 1.0000 - val_loss: 0.0440 - val_accuracy: 0.9879 - val_auc: 0.9971\n",
      "Epoch 20/30\n",
      "73/73 [==============================] - 9s 117ms/step - loss: 0.0064 - accuracy: 0.9957 - auc: 1.0000 - val_loss: 0.0360 - val_accuracy: 0.9897 - val_auc: 0.9996\n",
      "Epoch 21/30\n",
      "73/73 [==============================] - 8s 116ms/step - loss: 0.0042 - accuracy: 0.9974 - auc: 1.0000 - val_loss: 0.0429 - val_accuracy: 0.9879 - val_auc: 0.9969\n",
      "Epoch 22/30\n",
      "73/73 [==============================] - 9s 119ms/step - loss: 0.0029 - accuracy: 0.9974 - auc: 1.0000 - val_loss: 0.0365 - val_accuracy: 0.9879 - val_auc: 0.9996\n",
      "Epoch 23/30\n",
      "73/73 [==============================] - 9s 124ms/step - loss: 0.0047 - accuracy: 0.9970 - auc: 1.0000 - val_loss: 0.0418 - val_accuracy: 0.9879 - val_auc: 0.9995\n",
      "Epoch 24/30\n",
      "73/73 [==============================] - 9s 127ms/step - loss: 0.0018 - accuracy: 0.9996 - auc: 1.0000 - val_loss: 0.0395 - val_accuracy: 0.9879 - val_auc: 0.9996\n",
      "Epoch 25/30\n",
      "73/73 [==============================] - 9s 129ms/step - loss: 0.0036 - accuracy: 0.9987 - auc: 1.0000 - val_loss: 0.0349 - val_accuracy: 0.9897 - val_auc: 0.9995\n",
      "Epoch 26/30\n",
      "73/73 [==============================] - 9s 127ms/step - loss: 0.0019 - accuracy: 0.9987 - auc: 1.0000 - val_loss: 0.0284 - val_accuracy: 0.9879 - val_auc: 0.9998\n",
      "Epoch 27/30\n",
      "73/73 [==============================] - 9s 123ms/step - loss: 0.0027 - accuracy: 0.9987 - auc: 1.0000 - val_loss: 0.0330 - val_accuracy: 0.9879 - val_auc: 0.9997\n",
      "Epoch 28/30\n",
      "73/73 [==============================] - 9s 121ms/step - loss: 0.0139 - accuracy: 0.9978 - auc: 0.9993 - val_loss: 0.0682 - val_accuracy: 0.9879 - val_auc: 0.9972\n",
      "Epoch 29/30\n",
      "73/73 [==============================] - 9s 124ms/step - loss: 0.0039 - accuracy: 0.9991 - auc: 0.9993 - val_loss: 0.0675 - val_accuracy: 0.9879 - val_auc: 0.9958\n",
      "Epoch 30/30\n",
      "73/73 [==============================] - 9s 124ms/step - loss: 0.0018 - accuracy: 0.9996 - auc: 1.0000 - val_loss: 0.0696 - val_accuracy: 0.9897 - val_auc: 0.9985\n"
     ]
    }
   ],
   "source": [
    "history = model.fit(X_train, y_train,\n",
    "                    validation_split=0.2,\n",
    "                    batch_size=32,\n",
    "                    epochs=30\n",
    ")"
   ]
  },
  {
   "cell_type": "markdown",
   "id": "ec42096f",
   "metadata": {},
   "source": [
    "### 🛑 Learning Curve"
   ]
  },
  {
   "cell_type": "markdown",
   "id": "5508c40d",
   "metadata": {},
   "source": [
    "📧 Learning Curve Loss"
   ]
  },
  {
   "cell_type": "code",
   "execution_count": 213,
   "id": "6fd76acc",
   "metadata": {},
   "outputs": [
    {
     "data": {
      "image/png": "[encoded data removed]",
      "text/plain": [
       "<Figure size 432x288 with 1 Axes>"
      ]
     },
     "metadata": {
      "needs_background": "light"
     },
     "output_type": "display_data"
    }
   ],
   "source": [
    "plt.plot(history.history['loss'])\n",
    "plt.plot(history.history['val_loss'], 'y')\n",
    "\n",
    "plt.title('model loss')\n",
    "plt.ylabel('loss')\n",
    "plt.xlabel('epoch')\n",
    "plt.legend(['train', 'val_loss'])\n",
    "\n",
    "plt.show()"
   ]
  },
  {
   "cell_type": "markdown",
   "id": "55d65070",
   "metadata": {},
   "source": [
    "📧 Learning Curve Accuracy"
   ]
  },
  {
   "cell_type": "code",
   "execution_count": 208,
   "id": "ec931a21",
   "metadata": {},
   "outputs": [
    {
     "data": {
      "image/png": "[encoded data removed]",
      "text/plain": [
       "<Figure size 432x288 with 1 Axes>"
      ]
     },
     "metadata": {
      "needs_background": "light"
     },
     "output_type": "display_data"
    }
   ],
   "source": [
    "plt.plot(history.history['accuracy'])\n",
    "plt.plot(history.history['val_accuracy'])\n",
    "\n",
    "plt.title('model accuracy')\n",
    "plt.ylabel('accuracy')\n",
    "plt.xlabel('epoch')\n",
    "plt.legend(['train', 'val_accuracy'])\n",
    "\n",
    "plt.show()"
   ]
  },
  {
   "cell_type": "markdown",
   "id": "f295ea2e",
   "metadata": {},
   "source": [
    "📧 Learning Curve AUC"
   ]
  },
  {
   "cell_type": "code",
   "execution_count": 209,
   "id": "04bbca88",
   "metadata": {},
   "outputs": [
    {
     "data": {
      "image/png": "[encoded data removed]",
      "text/plain": [
       "<Figure size 432x288 with 1 Axes>"
      ]
     },
     "metadata": {
      "needs_background": "light"
     },
     "output_type": "display_data"
    }
   ],
   "source": [
    "plt.plot(history.history['auc'])\n",
    "plt.plot(history.history['val_auc'])\n",
    "\n",
    "plt.title('model auc')\n",
    "plt.ylabel('auc')\n",
    "plt.xlabel('epoch')\n",
    "plt.legend(['train', 'val_loss'])\n",
    "\n",
    "plt.show()"
   ]
  },
  {
   "cell_type": "markdown",
   "id": "386d8093",
   "metadata": {},
   "source": [
    "📧 Scores modèle"
   ]
  },
  {
   "cell_type": "code",
   "execution_count": 210,
   "id": "9248f7bb",
   "metadata": {},
   "outputs": [
    {
     "name": "stdout",
     "output_type": "stream",
     "text": [
      "Test Loss: 0.0693\n",
      "Test Accuracy: 99.10%\n",
      "Test AUC: 0.9946\n"
     ]
    }
   ],
   "source": [
    "results = model.evaluate(X_test, y_test, verbose=0)\n",
    "\n",
    "print(\"Test Loss: {:.4f}\".format(results[0]))\n",
    "print(\"Test Accuracy: {:.2f}%\".format(results[1] * 100))\n",
    "print(\"Test AUC: {:.4f}\".format(results[2]))"
   ]
  },
  {
   "cell_type": "code",
   "execution_count": null,
   "id": "3cfb2c18",
   "metadata": {},
   "outputs": [],
   "source": []
  }
 ],
 "metadata": {
  "kernelspec": {
   "display_name": "Python 3",
   "language": "python",
   "name": "python3"
  },
  "language_info": {
   "codemirror_mode": {
    "name": "ipython",
    "version": 3
   },
   "file_extension": ".py",
   "mimetype": "text/x-python",
   "name": "python",
   "nbconvert_exporter": "python",
   "pygments_lexer": "ipython3",
   "version": "3.8.8"
  }
 },
 "nbformat": 4,
 "nbformat_minor": 5
}
